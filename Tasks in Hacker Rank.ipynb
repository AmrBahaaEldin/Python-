{
 "cells": [
  {
   "cell_type": "markdown",
   "id": "97b221d3",
   "metadata": {},
   "source": [
    "Given an integer, , perform the following conditional actions:\n",
    "\n",
    "If  is odd, print Weird\n",
    "If  is even and in the inclusive range of 2 to 5 , print Not Weird\n",
    "If  is even and in the inclusive range of 6  to 20 , print Weird\n",
    "If  is even and greater than  20 , print Not Weird"
   ]
  },
  {
   "cell_type": "code",
   "execution_count": 18,
   "id": "b2374010",
   "metadata": {},
   "outputs": [
    {
     "name": "stdout",
     "output_type": "stream",
     "text": [
      "enter number:24\n"
     ]
    }
   ],
   "source": [
    "#enter value check number what about is \n",
    "n =int(input(\"enter number:\"))"
   ]
  },
  {
   "cell_type": "code",
   "execution_count": 19,
   "id": "2bdd94ff",
   "metadata": {},
   "outputs": [
    {
     "name": "stdout",
     "output_type": "stream",
     "text": [
      "Not Weird\n"
     ]
    }
   ],
   "source": [
    "    if (n%2==1):\n",
    "        print(\"Weird\")\n",
    "    else :\n",
    "        if n in range (2,6):\n",
    "             print(\"Not Weird\")\n",
    "        elif n in range(6,21) :\n",
    "            print(\"Weird\")\n",
    "        else:\n",
    "             print(\"Not Weird\")    \n",
    "           "
   ]
  },
  {
   "cell_type": "markdown",
   "id": "43f5ae8c",
   "metadata": {},
   "source": [
    "The provided code stub reads two integers from STDIN,  and . Add code to print three lines where:\n",
    "\n",
    "The first line contains the sum of the two numbers.\n",
    "The second line contains the difference of the two numbers (first - second).\n",
    "The third line contains the product of the two numbers."
   ]
  },
  {
   "cell_type": "code",
   "execution_count": 1,
   "id": "14a35861",
   "metadata": {},
   "outputs": [
    {
     "name": "stdout",
     "output_type": "stream",
     "text": [
      "enter number1:8\n",
      "enter number2:-2\n"
     ]
    }
   ],
   "source": [
    "#enter values make some operation  \n",
    "n1 =int(input(\"enter number1:\"))\n",
    "n2 =int(input(\"enter number2:\"))"
   ]
  },
  {
   "cell_type": "code",
   "execution_count": 3,
   "id": "e0025477",
   "metadata": {},
   "outputs": [
    {
     "name": "stdout",
     "output_type": "stream",
     "text": [
      "6\n",
      "10\n",
      "-16\n"
     ]
    }
   ],
   "source": [
    "print(n1+n2)\n",
    "print(n1-n2)\n",
    "print(n1*n2)"
   ]
  },
  {
   "cell_type": "markdown",
   "id": "f5255531",
   "metadata": {},
   "source": [
    "The provided code stub reads two integers,  and , from STDIN.\n",
    "\n",
    "Add logic to print two lines. The first line should contain the result of integer division,  // . The second line should contain the result of float division,  / .\n",
    "\n",
    "No rounding or formatting is necessary."
   ]
  },
  {
   "cell_type": "code",
   "execution_count": 20,
   "id": "69a12ca8",
   "metadata": {},
   "outputs": [
    {
     "name": "stdout",
     "output_type": "stream",
     "text": [
      "enter number1:3\n",
      "enter number2:5\n"
     ]
    }
   ],
   "source": [
    "a =int(input(\"enter number1:\"))\n",
    "b =int(input(\"enter number2:\"))"
   ]
  },
  {
   "cell_type": "code",
   "execution_count": 22,
   "id": "b910aa3c",
   "metadata": {},
   "outputs": [
    {
     "name": "stdout",
     "output_type": "stream",
     "text": [
      "0\n",
      "0.6\n"
     ]
    }
   ],
   "source": [
    "print(a//b)\n",
    "print(a/b)\n"
   ]
  },
  {
   "cell_type": "markdown",
   "id": "9c404b73",
   "metadata": {},
   "source": [
    "The provided code stub reads and integer,\n",
    "from STDIN. For all non-negative integers  i<n, print i**2 ."
   ]
  },
  {
   "cell_type": "code",
   "execution_count": 30,
   "id": "d3fe9b2a",
   "metadata": {},
   "outputs": [
    {
     "name": "stdout",
     "output_type": "stream",
     "text": [
      "enter number:5\n"
     ]
    }
   ],
   "source": [
    "n =int(input(\"enter number:\"))\n"
   ]
  },
  {
   "cell_type": "code",
   "execution_count": 32,
   "id": "cedfb35f",
   "metadata": {},
   "outputs": [
    {
     "name": "stdout",
     "output_type": "stream",
     "text": [
      "0\n",
      "1\n",
      "4\n",
      "9\n",
      "16\n"
     ]
    }
   ],
   "source": [
    "\n",
    "    for i  in range (n) :\n",
    "        i=i**2\n",
    "        print(i)\n",
    "\n"
   ]
  },
  {
   "cell_type": "markdown",
   "id": "892bb018",
   "metadata": {},
   "source": [
    "An extra day is added to the calendar almost every four years as February 29, and the day is called a leap day. It corrects the calendar for the fact that our planet takes approximately 365.25 days to orbit the sun. A leap year contains a leap day.\n",
    "\n",
    "In the Gregorian calendar, three conditions are used to identify leap years:\n",
    "\n",
    "The year can be evenly divided by 4, is a leap year, unless:\n",
    "The year can be evenly divided by 100, it is NOT a leap year, unless:\n",
    "The year is also evenly divisible by 400. Then it is a leap year.\n",
    "This means that in the Gregorian calendar, the years 2000 and 2400 are leap years, while 1800, 1900, 2100, 2200, 2300 and 2500 are NOT leap years. Source\n",
    "\n",
    "Task\n",
    "\n",
    "Given a year, determine whether it is a leap year. If it is a leap year, return the Boolean True, otherwise return False.\n",
    "\n",
    "Note that the code stub provided reads from STDIN and passes arguments to the is_leap function. It is only necessary to complete the is_leap function.\n",
    "\n",
    "Input Format"
   ]
  },
  {
   "cell_type": "code",
   "execution_count": 12,
   "id": "59976a57",
   "metadata": {},
   "outputs": [
    {
     "name": "stdout",
     "output_type": "stream",
     "text": [
      "enter check year:2001\n"
     ]
    }
   ],
   "source": [
    "n =int(input(\"enter check year:\"))\n"
   ]
  },
  {
   "cell_type": "code",
   "execution_count": 14,
   "id": "d4b27d09",
   "metadata": {},
   "outputs": [],
   "source": [
    "# divided by 4 and can not divided by 100 \n",
    "# or can divided 400 \n",
    "#Ture no  ture\n",
    "#False no false\n",
    "def checkyear(n):\n",
    "    if (n % 4 == 0 and n % 100 != 0) or (n % 400 == 0):\n",
    "           return True\n",
    "    else:\n",
    "        return False"
   ]
  },
  {
   "cell_type": "code",
   "execution_count": 15,
   "id": "fbc58290",
   "metadata": {},
   "outputs": [],
   "source": [
    "output=checkyear(n)"
   ]
  },
  {
   "cell_type": "code",
   "execution_count": 16,
   "id": "d3be30fa",
   "metadata": {},
   "outputs": [
    {
     "name": "stdout",
     "output_type": "stream",
     "text": [
      "False\n"
     ]
    }
   ],
   "source": [
    "print(output)"
   ]
  },
  {
   "cell_type": "code",
   "execution_count": null,
   "id": "8e6e8997",
   "metadata": {},
   "outputs": [],
   "source": []
  }
 ],
 "metadata": {
  "kernelspec": {
   "display_name": "Python 3 (ipykernel)",
   "language": "python",
   "name": "python3"
  },
  "language_info": {
   "codemirror_mode": {
    "name": "ipython",
    "version": 3
   },
   "file_extension": ".py",
   "mimetype": "text/x-python",
   "name": "python",
   "nbconvert_exporter": "python",
   "pygments_lexer": "ipython3",
   "version": "3.9.12"
  }
 },
 "nbformat": 4,
 "nbformat_minor": 5
}
