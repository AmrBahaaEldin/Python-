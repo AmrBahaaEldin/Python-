{
 "cells": [
  {
   "cell_type": "raw",
   "id": "398c82f4",
   "metadata": {},
   "source": [
    "'''\n",
    "Assignment: print the numbers using (start, end) using for loop,\n",
    "and print if the number is odd or even using If conditon\n",
    "\n",
    "Assignment.2: print numbers using start, end in for loop and add If conditon as the end MUST be less than the start.\n",
    "'''"
   ]
  },
  {
   "cell_type": "code",
   "execution_count": 70,
   "id": "de7f0143",
   "metadata": {},
   "outputs": [
    {
     "name": "stdout",
     "output_type": "stream",
     "text": [
      "even is :0\n",
      "odd is :1\n",
      "even is :2\n",
      "odd is :3\n",
      "even is :4\n",
      "odd is :5\n",
      "even is :6\n",
      "odd is :7\n",
      "even is :8\n",
      "odd is :9\n",
      "even is :10\n",
      "odd is :11\n",
      "even is :12\n",
      "odd is :13\n",
      "even is :14\n",
      "odd is :15\n",
      "even is :16\n",
      "odd is :17\n",
      "even is :18\n",
      "odd is :19\n",
      "even is :20\n",
      "odd is :21\n",
      "even is :22\n",
      "odd is :23\n",
      "even is :24\n",
      "odd is :25\n",
      "even is :26\n",
      "odd is :27\n",
      "even is :28\n",
      "odd is :29\n",
      "even is :30\n",
      "odd is :31\n",
      "even is :32\n",
      "odd is :33\n",
      "even is :34\n",
      "odd is :35\n",
      "even is :36\n",
      "odd is :37\n",
      "even is :38\n",
      "odd is :39\n",
      "even is :40\n",
      "odd is :41\n",
      "even is :42\n",
      "odd is :43\n",
      "even is :44\n",
      "odd is :45\n",
      "even is :46\n",
      "odd is :47\n",
      "even is :48\n",
      "odd is :49\n",
      "even is :50\n",
      "odd is :51\n",
      "even is :52\n",
      "odd is :53\n",
      "even is :54\n",
      "odd is :55\n",
      "even is :56\n",
      "odd is :57\n",
      "even is :58\n",
      "odd is :59\n",
      "even is :60\n",
      "odd is :61\n",
      "even is :62\n",
      "odd is :63\n",
      "even is :64\n",
      "odd is :65\n",
      "even is :66\n",
      "odd is :67\n",
      "even is :68\n",
      "odd is :69\n",
      "even is :70\n",
      "odd is :71\n",
      "even is :72\n",
      "odd is :73\n",
      "even is :74\n",
      "odd is :75\n",
      "even is :76\n",
      "odd is :77\n",
      "even is :78\n",
      "odd is :79\n",
      "even is :80\n",
      "odd is :81\n",
      "even is :82\n",
      "odd is :83\n",
      "even is :84\n",
      "odd is :85\n",
      "even is :86\n",
      "odd is :87\n",
      "even is :88\n",
      "odd is :89\n",
      "even is :90\n",
      "odd is :91\n",
      "even is :92\n",
      "odd is :93\n",
      "even is :94\n",
      "odd is :95\n",
      "even is :96\n",
      "odd is :97\n",
      "even is :98\n"
     ]
    }
   ],
   "source": [
    "for i in range(99):\n",
    "    if i%2==0:\n",
    "        print (f\"even is :{i}\")\n",
    "    else:\n",
    "         print (f\"odd is :{i}\")\n",
    "        "
   ]
  },
  {
   "cell_type": "code",
   "execution_count": 67,
   "id": "d19a4339",
   "metadata": {},
   "outputs": [],
   "source": [
    "start=5\n",
    "end=50\n"
   ]
  },
  {
   "cell_type": "code",
   "execution_count": 68,
   "id": "cdc0a3c5",
   "metadata": {},
   "outputs": [
    {
     "name": "stdout",
     "output_type": "stream",
     "text": [
      "odd is :5\n",
      "even is :6\n",
      "odd is :7\n",
      "even is :8\n",
      "odd is :9\n",
      "even is :10\n",
      "odd is :11\n",
      "even is :12\n",
      "odd is :13\n",
      "even is :14\n",
      "odd is :15\n",
      "even is :16\n",
      "odd is :17\n",
      "even is :18\n",
      "odd is :19\n",
      "even is :20\n",
      "odd is :21\n",
      "even is :22\n",
      "odd is :23\n",
      "even is :24\n",
      "odd is :25\n",
      "even is :26\n",
      "odd is :27\n",
      "even is :28\n",
      "odd is :29\n",
      "even is :30\n",
      "odd is :31\n",
      "even is :32\n",
      "odd is :33\n",
      "even is :34\n",
      "odd is :35\n",
      "even is :36\n",
      "odd is :37\n",
      "even is :38\n",
      "odd is :39\n",
      "even is :40\n",
      "odd is :41\n",
      "even is :42\n",
      "odd is :43\n",
      "even is :44\n",
      "odd is :45\n",
      "even is :46\n",
      "odd is :47\n",
      "even is :48\n",
      "odd is :49\n",
      "even is :50\n"
     ]
    }
   ],
   "source": [
    "while  start<=end :\n",
    "        if start%2==0:\n",
    "                print (f\"even is :{start}\")\n",
    "        else:\n",
    "                print (f\"odd is :{start}\")\n",
    "        start +=1"
   ]
  },
  {
   "cell_type": "code",
   "execution_count": 91,
   "id": "532b81d4",
   "metadata": {},
   "outputs": [],
   "source": [
    "start =99\n",
    "end =8\n"
   ]
  },
  {
   "cell_type": "code",
   "execution_count": 92,
   "id": "e0ae44c7",
   "metadata": {},
   "outputs": [
    {
     "name": "stdout",
     "output_type": "stream",
     "text": [
      "99\n",
      "98\n",
      "97\n",
      "96\n",
      "95\n",
      "94\n",
      "93\n",
      "92\n",
      "91\n",
      "90\n",
      "89\n",
      "88\n",
      "87\n",
      "86\n",
      "85\n",
      "84\n",
      "83\n",
      "82\n",
      "81\n",
      "80\n",
      "79\n",
      "78\n",
      "77\n",
      "76\n",
      "75\n",
      "74\n",
      "73\n",
      "72\n",
      "71\n",
      "70\n",
      "69\n",
      "68\n",
      "67\n",
      "66\n",
      "65\n",
      "64\n",
      "63\n",
      "62\n",
      "61\n",
      "60\n",
      "59\n",
      "58\n",
      "57\n",
      "56\n",
      "55\n",
      "54\n",
      "53\n",
      "52\n",
      "51\n",
      "50\n",
      "49\n",
      "48\n",
      "47\n",
      "46\n",
      "45\n",
      "44\n",
      "43\n",
      "42\n",
      "41\n",
      "40\n",
      "39\n",
      "38\n",
      "37\n",
      "36\n",
      "35\n",
      "34\n",
      "33\n",
      "32\n",
      "31\n",
      "30\n",
      "29\n",
      "28\n",
      "27\n",
      "26\n",
      "25\n",
      "24\n",
      "23\n",
      "22\n",
      "21\n",
      "20\n",
      "19\n",
      "18\n",
      "17\n",
      "16\n",
      "15\n",
      "14\n",
      "13\n",
      "12\n",
      "11\n",
      "10\n",
      "9\n",
      "8\n"
     ]
    }
   ],
   "source": [
    "if end <start:\n",
    "        for i in range(start,end-1,-1):\n",
    "            print(i)\n",
    "else:\n",
    "    print(\"not vaild\")\n",
    "    \n",
    "        "
   ]
  },
  {
   "cell_type": "markdown",
   "id": "6e75190b",
   "metadata": {},
   "source": [
    "# # python_test _1"
   ]
  },
  {
   "cell_type": "code",
   "execution_count": null,
   "id": "eb644f16",
   "metadata": {},
   "outputs": [],
   "source": [
    "'''write a code to make a calculator by using funcation and nested conditions'''\n"
   ]
  },
  {
   "cell_type": "code",
   "execution_count": 138,
   "id": "2af7a439",
   "metadata": {},
   "outputs": [
    {
     "name": "stdout",
     "output_type": "stream",
     "text": [
      "pls enter frist number:10\n",
      "pls enter second number:0\n",
      "pls choose like operation to Need:div\n"
     ]
    }
   ],
   "source": [
    "x=float(input(\"pls enter frist number:\"))\n",
    "y=float(input(\"pls enter second number:\"))\n",
    "op=input(\"pls choose like operation to Need:\")\n",
    "\n"
   ]
  },
  {
   "cell_type": "code",
   "execution_count": 144,
   "id": "785ca780",
   "metadata": {},
   "outputs": [],
   "source": [
    "def calculatorSimple(x,y,op):\n",
    "   \n",
    "    if op == \"add\":\n",
    "        output=x+y\n",
    "    elif  op == \"sub\":\n",
    "        output=x-y\n",
    "    elif  op == \"multi\":\n",
    "        output=x*y\n",
    "    elif  op == \"div\":\n",
    "        \n",
    "        if y==0:\n",
    "            output=(\"operation not vaild div over 0 \")\n",
    "        else:\n",
    "            output=x/y \n",
    "    elif   op ==\"floatdiv\" :\n",
    "        output=x//y\n",
    "    elif  op ==\"power\":\n",
    "        output=x**y\n",
    "    else :\n",
    "        output=\"operation you enter not vaild\"\n",
    "        \n",
    "    return output"
   ]
  },
  {
   "cell_type": "code",
   "execution_count": 145,
   "id": "3aac0502",
   "metadata": {},
   "outputs": [
    {
     "name": "stdout",
     "output_type": "stream",
     "text": [
      "operation not vaild div over 0 \n"
     ]
    }
   ],
   "source": [
    "print(calculatorSimple(x,y,op))"
   ]
  },
  {
   "cell_type": "markdown",
   "id": "bffcff31",
   "metadata": {},
   "source": [
    "'''\n",
    "Data structure\n",
    "1----mtability\n",
    "2----order\n",
    "3----dynamically\n",
    "4----variety\n",
    "'''"
   ]
  },
  {
   "cell_type": "code",
   "execution_count": 146,
   "id": "c16bc2e8",
   "metadata": {},
   "outputs": [],
   "source": [
    "lst=[2,4,6]"
   ]
  },
  {
   "cell_type": "code",
   "execution_count": 147,
   "id": "90bf3330",
   "metadata": {},
   "outputs": [
    {
     "name": "stdout",
     "output_type": "stream",
     "text": [
      "[2, 4, 6]\n"
     ]
    }
   ],
   "source": [
    "print(lst)"
   ]
  },
  {
   "cell_type": "code",
   "execution_count": 148,
   "id": "2d85a7cb",
   "metadata": {},
   "outputs": [],
   "source": [
    "#mutability &variety\n",
    "lst.append(\"ahmed\")"
   ]
  },
  {
   "cell_type": "code",
   "execution_count": 149,
   "id": "5040c746",
   "metadata": {},
   "outputs": [
    {
     "name": "stdout",
     "output_type": "stream",
     "text": [
      "[2, 4, 6, 'ahmed']\n"
     ]
    }
   ],
   "source": [
    "print(lst)"
   ]
  },
  {
   "cell_type": "code",
   "execution_count": 150,
   "id": "bd5205f4",
   "metadata": {},
   "outputs": [
    {
     "name": "stdout",
     "output_type": "stream",
     "text": [
      "6\n"
     ]
    }
   ],
   "source": [
    "#order\n",
    "print(lst[2])"
   ]
  },
  {
   "cell_type": "code",
   "execution_count": 152,
   "id": "12bacd78",
   "metadata": {},
   "outputs": [],
   "source": [
    "#dynamically\n",
    "lst.insert(2,\"amr\")"
   ]
  },
  {
   "cell_type": "code",
   "execution_count": 153,
   "id": "a4c3c1c6",
   "metadata": {},
   "outputs": [
    {
     "data": {
      "text/plain": [
       "[2, 4, 'amr', 6, 'ahmed']"
      ]
     },
     "execution_count": 153,
     "metadata": {},
     "output_type": "execute_result"
    }
   ],
   "source": [
    "lst"
   ]
  },
  {
   "cell_type": "code",
   "execution_count": 154,
   "id": "171b9ec0",
   "metadata": {},
   "outputs": [],
   "source": [
    "lst[0]=5"
   ]
  },
  {
   "cell_type": "code",
   "execution_count": 155,
   "id": "ad5e1e84",
   "metadata": {},
   "outputs": [
    {
     "data": {
      "text/plain": [
       "[5, 4, 'amr', 6, 'ahmed']"
      ]
     },
     "execution_count": 155,
     "metadata": {},
     "output_type": "execute_result"
    }
   ],
   "source": [
    "lst\n"
   ]
  },
  {
   "cell_type": "code",
   "execution_count": null,
   "id": "60af3599",
   "metadata": {},
   "outputs": [],
   "source": []
  }
 ],
 "metadata": {
  "kernelspec": {
   "display_name": "Python 3 (ipykernel)",
   "language": "python",
   "name": "python3"
  },
  "language_info": {
   "codemirror_mode": {
    "name": "ipython",
    "version": 3
   },
   "file_extension": ".py",
   "mimetype": "text/x-python",
   "name": "python",
   "nbconvert_exporter": "python",
   "pygments_lexer": "ipython3",
   "version": "3.9.12"
  }
 },
 "nbformat": 4,
 "nbformat_minor": 5
}
