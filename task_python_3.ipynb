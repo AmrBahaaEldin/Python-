{
 "cells": [
  {
   "cell_type": "code",
   "execution_count": 1,
   "id": "1e8e34e9",
   "metadata": {},
   "outputs": [],
   "source": [
    "chractersElements=['a','b','c','d','e','f','g','h','o','x']"
   ]
  },
  {
   "cell_type": "code",
   "execution_count": 2,
   "id": "44ff4c81",
   "metadata": {},
   "outputs": [
    {
     "name": "stdout",
     "output_type": "stream",
     "text": [
      "['a', 'b', 'c', 'd', 'e', 'f', 'g', 'h', 'o', 'x']\n"
     ]
    }
   ],
   "source": [
    "print(chractersElements)"
   ]
  },
  {
   "cell_type": "code",
   "execution_count": 7,
   "id": "5744d8ef",
   "metadata": {},
   "outputs": [
    {
     "name": "stdout",
     "output_type": "stream",
     "text": [
      "b\n",
      "c\n",
      "d\n",
      "e\n"
     ]
    }
   ],
   "source": [
    "for i in range(1,5,1):\n",
    "    print(chractersElements[i])"
   ]
  },
  {
   "cell_type": "code",
   "execution_count": 8,
   "id": "277c40d1",
   "metadata": {},
   "outputs": [
    {
     "data": {
      "text/plain": [
       "['b', 'c', 'd', 'e']"
      ]
     },
     "execution_count": 8,
     "metadata": {},
     "output_type": "execute_result"
    }
   ],
   "source": [
    "chractersElements[1:5] #n+1"
   ]
  },
  {
   "cell_type": "code",
   "execution_count": 1,
   "id": "e409ca63",
   "metadata": {},
   "outputs": [],
   "source": [
    "#tuple \n",
    "lst=[\"adham\",\"dina\",35,\"yousef\"]"
   ]
  },
  {
   "cell_type": "code",
   "execution_count": 2,
   "id": "0b80ced0",
   "metadata": {},
   "outputs": [
    {
     "data": {
      "text/plain": [
       "['adham', 'dina', 35, 'yousef']"
      ]
     },
     "execution_count": 2,
     "metadata": {},
     "output_type": "execute_result"
    }
   ],
   "source": [
    "lst\n"
   ]
  },
  {
   "cell_type": "code",
   "execution_count": 4,
   "id": "a7d6b0be",
   "metadata": {},
   "outputs": [
    {
     "name": "stdout",
     "output_type": "stream",
     "text": [
      "False\n"
     ]
    }
   ],
   "source": [
    "print( \"amr\" in lst)"
   ]
  },
  {
   "cell_type": "code",
   "execution_count": 7,
   "id": "cdb009cd",
   "metadata": {},
   "outputs": [],
   "source": [
    "tupleRange=(\"amr\",\"Bahaa\",\"Mohmaed\",35,60)"
   ]
  },
  {
   "cell_type": "code",
   "execution_count": 8,
   "id": "e66a2134",
   "metadata": {},
   "outputs": [
    {
     "data": {
      "text/plain": [
       "('amr', 'Bahaa', 'Mohmaed', 35, 60)"
      ]
     },
     "execution_count": 8,
     "metadata": {},
     "output_type": "execute_result"
    }
   ],
   "source": [
    "tupleRange"
   ]
  },
  {
   "cell_type": "code",
   "execution_count": 9,
   "id": "22f1f0bb",
   "metadata": {},
   "outputs": [
    {
     "name": "stdout",
     "output_type": "stream",
     "text": [
      "True\n"
     ]
    }
   ],
   "source": [
    "print(\"amr\" in tupleRange)"
   ]
  },
  {
   "cell_type": "code",
   "execution_count": 10,
   "id": "5f97971c",
   "metadata": {},
   "outputs": [
    {
     "data": {
      "text/plain": [
       "('amr', 'Bahaa', 'Mohmaed', 35)"
      ]
     },
     "execution_count": 10,
     "metadata": {},
     "output_type": "execute_result"
    }
   ],
   "source": [
    "tupleRange[0:4]"
   ]
  },
  {
   "cell_type": "code",
   "execution_count": 12,
   "id": "c643bf1a",
   "metadata": {},
   "outputs": [
    {
     "ename": "TypeError",
     "evalue": "'tuple' object does not support item assignment",
     "output_type": "error",
     "traceback": [
      "\u001b[1;31m---------------------------------------------------------------------------\u001b[0m",
      "\u001b[1;31mTypeError\u001b[0m                                 Traceback (most recent call last)",
      "Input \u001b[1;32mIn [12]\u001b[0m, in \u001b[0;36m<cell line: 2>\u001b[1;34m()\u001b[0m\n\u001b[0;32m      1\u001b[0m \u001b[38;5;66;03m#tuple can't change values \u001b[39;00m\n\u001b[1;32m----> 2\u001b[0m tupleRange[\u001b[38;5;241m0\u001b[39m]\u001b[38;5;241m=\u001b[39m\u001b[38;5;124m\"\u001b[39m\u001b[38;5;124mamrBahaa\u001b[39m\u001b[38;5;124m\"\u001b[39m\n",
      "\u001b[1;31mTypeError\u001b[0m: 'tuple' object does not support item assignment"
     ]
    }
   ],
   "source": [
    "#tuple can't change values,but can change datatype\n",
    "tupleRange[0]=\"amrBahaa\""
   ]
  },
  {
   "cell_type": "code",
   "execution_count": 13,
   "id": "79883ec9",
   "metadata": {},
   "outputs": [],
   "source": [
    "change_dataType=list(tupleRange)"
   ]
  },
  {
   "cell_type": "code",
   "execution_count": 14,
   "id": "4888e57f",
   "metadata": {},
   "outputs": [
    {
     "data": {
      "text/plain": [
       "['amr', 'Bahaa', 'Mohmaed', 35, 60]"
      ]
     },
     "execution_count": 14,
     "metadata": {},
     "output_type": "execute_result"
    }
   ],
   "source": [
    "change_dataType"
   ]
  },
  {
   "cell_type": "code",
   "execution_count": 15,
   "id": "9a71889c",
   "metadata": {},
   "outputs": [],
   "source": [
    "change_dataType[0]=\"amrBahaa\""
   ]
  },
  {
   "cell_type": "code",
   "execution_count": 16,
   "id": "6e3f8ae6",
   "metadata": {},
   "outputs": [
    {
     "data": {
      "text/plain": [
       "['amrBahaa', 'Bahaa', 'Mohmaed', 35, 60]"
      ]
     },
     "execution_count": 16,
     "metadata": {},
     "output_type": "execute_result"
    }
   ],
   "source": [
    "change_dataType"
   ]
  },
  {
   "cell_type": "code",
   "execution_count": 17,
   "id": "42eb880c",
   "metadata": {},
   "outputs": [],
   "source": [
    "#return into tuple\n",
    "returnTuple=tuple(change_dataType)"
   ]
  },
  {
   "cell_type": "code",
   "execution_count": 18,
   "id": "475f0b1d",
   "metadata": {},
   "outputs": [
    {
     "data": {
      "text/plain": [
       "['amrBahaa', 'Bahaa', 'Mohmaed', 35, 60]"
      ]
     },
     "execution_count": 18,
     "metadata": {},
     "output_type": "execute_result"
    }
   ],
   "source": [
    "change_dataType"
   ]
  },
  {
   "cell_type": "code",
   "execution_count": 19,
   "id": "73fe1fe4",
   "metadata": {},
   "outputs": [
    {
     "data": {
      "text/plain": [
       "('amrBahaa', 'Bahaa', 'Mohmaed', 35, 60)"
      ]
     },
     "execution_count": 19,
     "metadata": {},
     "output_type": "execute_result"
    }
   ],
   "source": [
    "returnTuple\n"
   ]
  },
  {
   "cell_type": "code",
   "execution_count": 20,
   "id": "66cb8a79",
   "metadata": {},
   "outputs": [
    {
     "name": "stdout",
     "output_type": "stream",
     "text": [
      "<class 'tuple'>\n"
     ]
    }
   ],
   "source": [
    "print(type(returnTuple))"
   ]
  },
  {
   "cell_type": "code",
   "execution_count": 23,
   "id": "4d9fd180",
   "metadata": {},
   "outputs": [],
   "source": [
    "x=(\"ahmed\",\"amr\",\"mohamed\",23,25)\n"
   ]
  },
  {
   "cell_type": "code",
   "execution_count": 27,
   "id": "402ebb2d",
   "metadata": {},
   "outputs": [
    {
     "data": {
      "text/plain": [
       "(23, 'mohamed')"
      ]
     },
     "execution_count": 27,
     "metadata": {},
     "output_type": "execute_result"
    }
   ],
   "source": [
    "x[-2:-4:-1] #from 4 to 2 -4--2"
   ]
  },
  {
   "cell_type": "code",
   "execution_count": 28,
   "id": "745719eb",
   "metadata": {},
   "outputs": [],
   "source": [
    "x1=list(x)"
   ]
  },
  {
   "cell_type": "code",
   "execution_count": 29,
   "id": "a2d296f7",
   "metadata": {},
   "outputs": [
    {
     "data": {
      "text/plain": [
       "['ahmed', 'amr', 'mohamed', 23, 25]"
      ]
     },
     "execution_count": 29,
     "metadata": {},
     "output_type": "execute_result"
    }
   ],
   "source": [
    "x1\n"
   ]
  },
  {
   "cell_type": "code",
   "execution_count": 32,
   "id": "6ace7a9a",
   "metadata": {},
   "outputs": [],
   "source": [
    "x1.remove(25)   # nedd select value need remove in  list not  select index "
   ]
  },
  {
   "cell_type": "code",
   "execution_count": 33,
   "id": "a58d0812",
   "metadata": {},
   "outputs": [
    {
     "data": {
      "text/plain": [
       "['ahmed', 'amr', 'mohamed', 23]"
      ]
     },
     "execution_count": 33,
     "metadata": {},
     "output_type": "execute_result"
    }
   ],
   "source": [
    "x1"
   ]
  },
  {
   "cell_type": "code",
   "execution_count": 34,
   "id": "7a354759",
   "metadata": {},
   "outputs": [],
   "source": [
    "x=tuple(x1)"
   ]
  },
  {
   "cell_type": "code",
   "execution_count": 35,
   "id": "f5b80dce",
   "metadata": {},
   "outputs": [
    {
     "data": {
      "text/plain": [
       "('ahmed', 'amr', 'mohamed', 23)"
      ]
     },
     "execution_count": 35,
     "metadata": {},
     "output_type": "execute_result"
    }
   ],
   "source": [
    "x"
   ]
  },
  {
   "cell_type": "code",
   "execution_count": 36,
   "id": "9cc96618",
   "metadata": {},
   "outputs": [
    {
     "data": {
      "text/plain": [
       "['ahmed', 'amr', 'mohamed', 23]"
      ]
     },
     "execution_count": 36,
     "metadata": {},
     "output_type": "execute_result"
    }
   ],
   "source": [
    "x1"
   ]
  },
  {
   "cell_type": "code",
   "execution_count": 37,
   "id": "f1fa8680",
   "metadata": {},
   "outputs": [],
   "source": [
    "x1.append(\"bahaa\")"
   ]
  },
  {
   "cell_type": "code",
   "execution_count": 38,
   "id": "c02a2d1a",
   "metadata": {},
   "outputs": [],
   "source": [
    "x=tuple(x1)"
   ]
  },
  {
   "cell_type": "code",
   "execution_count": 39,
   "id": "bfd08dec",
   "metadata": {},
   "outputs": [
    {
     "data": {
      "text/plain": [
       "('ahmed', 'amr', 'mohamed', 23, 'bahaa')"
      ]
     },
     "execution_count": 39,
     "metadata": {},
     "output_type": "execute_result"
    }
   ],
   "source": [
    "x"
   ]
  },
  {
   "cell_type": "code",
   "execution_count": 40,
   "id": "2be0995e",
   "metadata": {},
   "outputs": [],
   "source": [
    "list_key=[\"language\",\"score\",\"hobit\",\"exp\"]"
   ]
  },
  {
   "cell_type": "code",
   "execution_count": 42,
   "id": "0d57c7e4",
   "metadata": {},
   "outputs": [],
   "source": [
    "lsit_value=[[\"c++\",\"python\",\"c#\"],[20,23,70],\"cybersecurity\",[1,2,3]]"
   ]
  },
  {
   "cell_type": "code",
   "execution_count": 43,
   "id": "08679640",
   "metadata": {},
   "outputs": [],
   "source": [
    "maxtoList=dict(zip(list_key,lsit_value)) # link between key with value be together about list"
   ]
  },
  {
   "cell_type": "code",
   "execution_count": 44,
   "id": "86589f4f",
   "metadata": {},
   "outputs": [
    {
     "data": {
      "text/plain": [
       "{'language': ['c++', 'python', 'c#'],\n",
       " 'score': [20, 23, 70],\n",
       " 'hobit': 'cybersecurity',\n",
       " 'exp': [1, 2, 3]}"
      ]
     },
     "execution_count": 44,
     "metadata": {},
     "output_type": "execute_result"
    }
   ],
   "source": [
    "maxtoList"
   ]
  },
  {
   "cell_type": "code",
   "execution_count": 50,
   "id": "e2952643",
   "metadata": {},
   "outputs": [
    {
     "name": "stdout",
     "output_type": "stream",
     "text": [
      "language:['c++', 'python', 'c#']\n",
      "score:[20, 23, 70]\n",
      "hobit:cybersecurity\n",
      "exp:[1, 2, 3]\n"
     ]
    }
   ],
   "source": [
    "if (len(list_key)==len(lsit_value)):\n",
    "    for i in range(0,len(list_key)):\n",
    "        print(f\"{list_key[i]}:{lsit_value[i]}\") "
   ]
  },
  {
   "cell_type": "code",
   "execution_count": null,
   "id": "38e35279",
   "metadata": {},
   "outputs": [],
   "source": []
  }
 ],
 "metadata": {
  "kernelspec": {
   "display_name": "Python 3 (ipykernel)",
   "language": "python",
   "name": "python3"
  },
  "language_info": {
   "codemirror_mode": {
    "name": "ipython",
    "version": 3
   },
   "file_extension": ".py",
   "mimetype": "text/x-python",
   "name": "python",
   "nbconvert_exporter": "python",
   "pygments_lexer": "ipython3",
   "version": "3.9.12"
  }
 },
 "nbformat": 4,
 "nbformat_minor": 5
}
