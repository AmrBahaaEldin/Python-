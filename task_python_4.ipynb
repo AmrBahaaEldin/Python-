{
 "cells": [
  {
   "cell_type": "code",
   "execution_count": 1,
   "id": "5006d2ac",
   "metadata": {},
   "outputs": [],
   "source": [
    "lst1=[\"mohamed\",\"amr\",\"ahmed\"]\n",
    "lst2=[24,25,26]"
   ]
  },
  {
   "cell_type": "code",
   "execution_count": 2,
   "id": "acf2d3ae",
   "metadata": {},
   "outputs": [],
   "source": [
    "lst3=lst1.extend(lst2)"
   ]
  },
  {
   "cell_type": "code",
   "execution_count": 3,
   "id": "1f78dbb2",
   "metadata": {},
   "outputs": [],
   "source": [
    "lst3"
   ]
  },
  {
   "cell_type": "code",
   "execution_count": 5,
   "id": "1f795227",
   "metadata": {},
   "outputs": [
    {
     "name": "stdout",
     "output_type": "stream",
     "text": [
      "None\n"
     ]
    }
   ],
   "source": [
    "print(lst3)"
   ]
  },
  {
   "cell_type": "code",
   "execution_count": 6,
   "id": "9c72af5d",
   "metadata": {},
   "outputs": [
    {
     "data": {
      "text/plain": [
       "['mohamed', 'amr', 'ahmed', 24, 25, 26]"
      ]
     },
     "execution_count": 6,
     "metadata": {},
     "output_type": "execute_result"
    }
   ],
   "source": [
    "lst1"
   ]
  },
  {
   "cell_type": "code",
   "execution_count": 7,
   "id": "f6d4693f",
   "metadata": {},
   "outputs": [],
   "source": [
    "del lst1[0]"
   ]
  },
  {
   "cell_type": "code",
   "execution_count": 8,
   "id": "e1574a3c",
   "metadata": {},
   "outputs": [
    {
     "data": {
      "text/plain": [
       "['amr', 'ahmed', 24, 25, 26]"
      ]
     },
     "execution_count": 8,
     "metadata": {},
     "output_type": "execute_result"
    }
   ],
   "source": [
    "lst1"
   ]
  },
  {
   "cell_type": "code",
   "execution_count": 9,
   "id": "33e751a4",
   "metadata": {},
   "outputs": [],
   "source": [
    "mylist1=[i*i for i in range (1,6)]"
   ]
  },
  {
   "cell_type": "code",
   "execution_count": 10,
   "id": "ee8f43be",
   "metadata": {},
   "outputs": [
    {
     "data": {
      "text/plain": [
       "[1, 4, 9, 16, 25]"
      ]
     },
     "execution_count": 10,
     "metadata": {},
     "output_type": "execute_result"
    }
   ],
   "source": [
    "mylist1"
   ]
  },
  {
   "cell_type": "markdown",
   "id": "6cade11d",
   "metadata": {},
   "source": [
    "# my_list=[i*i (operation's output for i in range (1,6)]operation "
   ]
  },
  {
   "cell_type": "code",
   "execution_count": 12,
   "id": "8442232c",
   "metadata": {},
   "outputs": [],
   "source": [
    "squaredict={num:num**3 for num in range (1,6)}"
   ]
  },
  {
   "cell_type": "code",
   "execution_count": 13,
   "id": "c3bb5e32",
   "metadata": {},
   "outputs": [
    {
     "data": {
      "text/plain": [
       "{1: 1, 2: 8, 3: 27, 4: 64, 5: 125}"
      ]
     },
     "execution_count": 13,
     "metadata": {},
     "output_type": "execute_result"
    }
   ],
   "source": [
    "squaredict"
   ]
  },
  {
   "cell_type": "code",
   "execution_count": 15,
   "id": "a3229e8b",
   "metadata": {},
   "outputs": [
    {
     "data": {
      "text/plain": [
       "dict_values([1, 8, 27, 64, 125])"
      ]
     },
     "execution_count": 15,
     "metadata": {},
     "output_type": "execute_result"
    }
   ],
   "source": [
    "squaredict.values()"
   ]
  },
  {
   "cell_type": "code",
   "execution_count": 16,
   "id": "2e618dbf",
   "metadata": {},
   "outputs": [
    {
     "data": {
      "text/plain": [
       "dict_keys([1, 2, 3, 4, 5])"
      ]
     },
     "execution_count": 16,
     "metadata": {},
     "output_type": "execute_result"
    }
   ],
   "source": [
    "squaredict.keys()"
   ]
  },
  {
   "cell_type": "code",
   "execution_count": 17,
   "id": "ab2821d7",
   "metadata": {},
   "outputs": [],
   "source": [
    "set1={\"ahmed\",24,\"DataScientist\"}\n",
    "set2={\"amr\",23,\"CivilEnginering\"}"
   ]
  },
  {
   "cell_type": "code",
   "execution_count": 19,
   "id": "36cdcfb4",
   "metadata": {},
   "outputs": [],
   "source": [
    "set1.update(set2)"
   ]
  },
  {
   "cell_type": "code",
   "execution_count": 20,
   "id": "2cd12c0b",
   "metadata": {},
   "outputs": [
    {
     "data": {
      "text/plain": [
       "{23, 24, 'CivilEnginering', 'DataScientist', 'ahmed', 'amr'}"
      ]
     },
     "execution_count": 20,
     "metadata": {},
     "output_type": "execute_result"
    }
   ],
   "source": [
    "set1"
   ]
  },
  {
   "cell_type": "code",
   "execution_count": null,
   "id": "a67711c9",
   "metadata": {},
   "outputs": [],
   "source": []
  }
 ],
 "metadata": {
  "kernelspec": {
   "display_name": "Python 3 (ipykernel)",
   "language": "python",
   "name": "python3"
  },
  "language_info": {
   "codemirror_mode": {
    "name": "ipython",
    "version": 3
   },
   "file_extension": ".py",
   "mimetype": "text/x-python",
   "name": "python",
   "nbconvert_exporter": "python",
   "pygments_lexer": "ipython3",
   "version": "3.9.12"
  }
 },
 "nbformat": 4,
 "nbformat_minor": 5
}
