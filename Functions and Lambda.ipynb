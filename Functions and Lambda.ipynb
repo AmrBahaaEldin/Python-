{
 "cells": [
  {
   "cell_type": "markdown",
   "id": "cf85ae24",
   "metadata": {},
   "source": [
    "##pythonFuncation "
   ]
  },
  {
   "cell_type": "code",
   "execution_count": null,
   "id": "abb29928",
   "metadata": {},
   "outputs": [],
   "source": [
    "#this frist type\n",
    "#Calling a Function"
   ]
  },
  {
   "cell_type": "code",
   "execution_count": 11,
   "id": "9a7b643e",
   "metadata": {},
   "outputs": [],
   "source": [
    "def myFuncation():\n",
    "    print(\"thank you but you strong man \")"
   ]
  },
  {
   "cell_type": "code",
   "execution_count": 13,
   "id": "6884b245",
   "metadata": {},
   "outputs": [
    {
     "name": "stdout",
     "output_type": "stream",
     "text": [
      "thank you but you strong man \n"
     ]
    }
   ],
   "source": [
    "myFuncation()"
   ]
  },
  {
   "cell_type": "code",
   "execution_count": 14,
   "id": "9cb71666",
   "metadata": {},
   "outputs": [],
   "source": [
    "#this second type\n",
    "#Arguments"
   ]
  },
  {
   "cell_type": "code",
   "execution_count": 16,
   "id": "7aa853f4",
   "metadata": {},
   "outputs": [
    {
     "name": "stdout",
     "output_type": "stream",
     "text": [
      "Amr:thank you but you strong man \n"
     ]
    }
   ],
   "source": [
    "def myFuncation(inputNeed):\n",
    "    print(f\"{inputNeed}:thank you but you strong man \")\n",
    "myFuncation(\"Amr\")"
   ]
  },
  {
   "cell_type": "raw",
   "id": "7fd98f01",
   "metadata": {},
   "source": [
    "#this third type\n",
    "'''The terms parameter and argument can be used for the same thing: information that are passed into a function.'''"
   ]
  },
  {
   "cell_type": "code",
   "execution_count": 23,
   "id": "f07b0f92",
   "metadata": {},
   "outputs": [
    {
     "name": "stdout",
     "output_type": "stream",
     "text": [
      "Amr BahaaEldin\n"
     ]
    }
   ],
   "source": [
    "#Number of Arguments\n",
    "#Value sent to funcation \n",
    "def myFuncation(fname,lname):\n",
    "    print(fname +\" \"+lname)\n",
    "\n",
    "myFuncation(\"Amr\",\"BahaaEldin\")\n"
   ]
  },
  {
   "cell_type": "code",
   "execution_count": 29,
   "id": "2638999a",
   "metadata": {},
   "outputs": [
    {
     "name": "stdout",
     "output_type": "stream",
     "text": [
      "Nourhola madrid \n"
     ]
    }
   ],
   "source": [
    "#If you do not know how many arguments that will be passed into your function\n",
    "def myFuncation(*kids):\n",
    "    print(kids[1] +\"hola madrid \")\n",
    "myFuncation(\"BahaaEldin\",\"Nour\",\"sadd\")"
   ]
  },
  {
   "cell_type": "code",
   "execution_count": 31,
   "id": "accefdc9",
   "metadata": {},
   "outputs": [],
   "source": [
    "def list_numbers(food):\n",
    "    for x in  food :\n",
    "        print(x)\n",
    "food=[\"pizza\",'egg','kosray']"
   ]
  },
  {
   "cell_type": "code",
   "execution_count": 33,
   "id": "b779cf22",
   "metadata": {},
   "outputs": [
    {
     "name": "stdout",
     "output_type": "stream",
     "text": [
      "pizza\n",
      "egg\n",
      "kosray\n"
     ]
    }
   ],
   "source": [
    "list_numbers(food)"
   ]
  },
  {
   "cell_type": "code",
   "execution_count": 34,
   "id": "b26a5647",
   "metadata": {},
   "outputs": [
    {
     "name": "stdout",
     "output_type": "stream",
     "text": [
      "15\n",
      "25\n",
      "45\n"
     ]
    }
   ],
   "source": [
    "#return values\n",
    "#To let a function return a value, use the return statement:\n",
    "def my_function(x):\n",
    "    return 5 * x\n",
    "\n",
    "print(my_function(3))\n",
    "print(my_function(5))\n",
    "print(my_function(9))\n"
   ]
  },
  {
   "cell_type": "code",
   "execution_count": 43,
   "id": "0bbafe71",
   "metadata": {},
   "outputs": [
    {
     "name": "stdout",
     "output_type": "stream",
     "text": [
      "\n",
      "\n",
      "Recursion Example Results\n"
     ]
    },
    {
     "data": {
      "text/plain": [
       "0"
      ]
     },
     "execution_count": 43,
     "metadata": {},
     "output_type": "execute_result"
    }
   ],
   "source": [
    "\n",
    "'''\n",
    "Recursion\n",
    "return عبارة يعني مش محتاج امر الطباعة عشان اجيب المعلومات \n",
    "\n",
    "'''\n",
    "def tri_recursion(k):\n",
    "    if(k > 0):\n",
    "        result = k + tri_recursion(k - 1)\n",
    "        print(result)\n",
    "    else:\n",
    "        result = 0\n",
    "    return result\n",
    "\n",
    "print(\"\\n\\nRecursion Example Results\")\n",
    "tri_recursion(0)"
   ]
  },
  {
   "cell_type": "markdown",
   "id": "d9a94d6c",
   "metadata": {},
   "source": [
    "# Python Lambda\n",
    "#lambda arguments : expression\n"
   ]
  },
  {
   "cell_type": "code",
   "execution_count": 44,
   "id": "ae81dbd0",
   "metadata": {},
   "outputs": [
    {
     "name": "stdout",
     "output_type": "stream",
     "text": [
      "15\n"
     ]
    }
   ],
   "source": [
    "x = lambda a : a + 10\n",
    "print(x(5))"
   ]
  },
  {
   "cell_type": "code",
   "execution_count": 45,
   "id": "feb192c0",
   "metadata": {},
   "outputs": [
    {
     "name": "stdout",
     "output_type": "stream",
     "text": [
      "30\n"
     ]
    }
   ],
   "source": [
    "x = lambda a, b : a * b\n",
    "print(x(5, 6))"
   ]
  },
  {
   "cell_type": "raw",
   "id": "e4393714",
   "metadata": {},
   "source": [
    "The power of lambda is better shown when you use them as an anonymous function inside another function."
   ]
  },
  {
   "cell_type": "code",
   "execution_count": 47,
   "id": "65f040ac",
   "metadata": {},
   "outputs": [
    {
     "name": "stdout",
     "output_type": "stream",
     "text": [
      "33\n"
     ]
    }
   ],
   "source": [
    "def myfunc(n):\n",
    "    return lambda a : a * n\n",
    "\n",
    "mytripler = myfunc(3)\n",
    "\n",
    "print(mytripler(11))"
   ]
  },
  {
   "cell_type": "raw",
   "id": "57a2061d",
   "metadata": {},
   "source": [
    " use the same function definition to make both functions, in the same program:"
   ]
  },
  {
   "cell_type": "code",
   "execution_count": 46,
   "id": "e5da97c8",
   "metadata": {},
   "outputs": [
    {
     "name": "stdout",
     "output_type": "stream",
     "text": [
      "22\n",
      "33\n"
     ]
    }
   ],
   "source": [
    "def myfunc(n):\n",
    "    return lambda a : a * n\n",
    "\n",
    "mydoubler = myfunc(2)\n",
    "mytripler = myfunc(3)\n",
    "\n",
    "print(mydoubler(11))\n",
    "print(mytripler(11))"
   ]
  },
  {
   "cell_type": "markdown",
   "id": "dd2d89c8",
   "metadata": {},
   "source": [
    "# mission\n"
   ]
  },
  {
   "cell_type": "code",
   "execution_count": 1,
   "id": "f08b65ab",
   "metadata": {},
   "outputs": [],
   "source": [
    "x=['blue','','green',\"\",\"red\",\"\",\"yellow\",\"orange\",\"\"]"
   ]
  },
  {
   "cell_type": "code",
   "execution_count": 5,
   "id": "e15d94f3",
   "metadata": {},
   "outputs": [],
   "source": [
    "'''\n",
    "Fliter in list \n",
    "Fliter(use(funcation or any thing del from list),list)\n",
    "'''\n",
    "fliterList=list(filter(None,x))\n",
    "\n"
   ]
  },
  {
   "cell_type": "code",
   "execution_count": 6,
   "id": "58e8fca9",
   "metadata": {},
   "outputs": [
    {
     "data": {
      "text/plain": [
       "['blue', 'green', 'red', 'yellow', 'orange']"
      ]
     },
     "execution_count": 6,
     "metadata": {},
     "output_type": "execute_result"
    }
   ],
   "source": [
    "fliterList"
   ]
  },
  {
   "cell_type": "code",
   "execution_count": 54,
   "id": "f6c010ba",
   "metadata": {},
   "outputs": [],
   "source": [
    "fliter2=list(filter(lambda a : a == \"blue\",fliterList))"
   ]
  },
  {
   "cell_type": "code",
   "execution_count": 55,
   "id": "43d47b8b",
   "metadata": {},
   "outputs": [
    {
     "data": {
      "text/plain": [
       "['blue']"
      ]
     },
     "execution_count": 55,
     "metadata": {},
     "output_type": "execute_result"
    }
   ],
   "source": [
    "fliter2"
   ]
  },
  {
   "cell_type": "code",
   "execution_count": 57,
   "id": "01485dc4",
   "metadata": {},
   "outputs": [],
   "source": [
    "x=[[[]],\"hello\"]"
   ]
  },
  {
   "cell_type": "code",
   "execution_count": 62,
   "id": "2738567a",
   "metadata": {},
   "outputs": [],
   "source": [
    "x[0][0]=\"hello\""
   ]
  },
  {
   "cell_type": "code",
   "execution_count": 63,
   "id": "bd72d9dc",
   "metadata": {},
   "outputs": [
    {
     "data": {
      "text/plain": [
       "[['hello'], 'hello']"
      ]
     },
     "execution_count": 63,
     "metadata": {},
     "output_type": "execute_result"
    }
   ],
   "source": [
    "x"
   ]
  },
  {
   "cell_type": "code",
   "execution_count": 64,
   "id": "b7d85e57",
   "metadata": {},
   "outputs": [
    {
     "data": {
      "text/plain": [
       "'hello'"
      ]
     },
     "execution_count": 64,
     "metadata": {},
     "output_type": "execute_result"
    }
   ],
   "source": [
    "x.pop()"
   ]
  },
  {
   "cell_type": "code",
   "execution_count": 65,
   "id": "ac2907da",
   "metadata": {},
   "outputs": [
    {
     "data": {
      "text/plain": [
       "[['hello']]"
      ]
     },
     "execution_count": 65,
     "metadata": {},
     "output_type": "execute_result"
    }
   ],
   "source": [
    "x"
   ]
  },
  {
   "cell_type": "code",
   "execution_count": null,
   "id": "64ad1b37",
   "metadata": {},
   "outputs": [],
   "source": []
  }
 ],
 "metadata": {
  "kernelspec": {
   "display_name": "Python 3 (ipykernel)",
   "language": "python",
   "name": "python3"
  },
  "language_info": {
   "codemirror_mode": {
    "name": "ipython",
    "version": 3
   },
   "file_extension": ".py",
   "mimetype": "text/x-python",
   "name": "python",
   "nbconvert_exporter": "python",
   "pygments_lexer": "ipython3",
   "version": "3.9.12"
  }
 },
 "nbformat": 4,
 "nbformat_minor": 5
}
